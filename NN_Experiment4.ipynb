{
 "cells": [
  {
   "cell_type": "code",
   "execution_count": 4,
   "id": "ab0b662f-cd8c-4f50-8105-1ab1952cb2b7",
   "metadata": {},
   "outputs": [
    {
     "name": "stdout",
     "output_type": "stream",
     "text": [
      "Downloading data from https://storage.googleapis.com/tensorflow/tf-keras-datasets/train-labels-idx1-ubyte.gz\n",
      "\u001b[1m29515/29515\u001b[0m \u001b[32m━━━━━━━━━━━━━━━━━━━━\u001b[0m\u001b[37m\u001b[0m \u001b[1m0s\u001b[0m 2us/step\n",
      "Downloading data from https://storage.googleapis.com/tensorflow/tf-keras-datasets/train-images-idx3-ubyte.gz\n",
      "\u001b[1m26421880/26421880\u001b[0m \u001b[32m━━━━━━━━━━━━━━━━━━━━\u001b[0m\u001b[37m\u001b[0m \u001b[1m4s\u001b[0m 0us/step\n",
      "Downloading data from https://storage.googleapis.com/tensorflow/tf-keras-datasets/t10k-labels-idx1-ubyte.gz\n",
      "\u001b[1m5148/5148\u001b[0m \u001b[32m━━━━━━━━━━━━━━━━━━━━\u001b[0m\u001b[37m\u001b[0m \u001b[1m0s\u001b[0m 0s/step\n",
      "Downloading data from https://storage.googleapis.com/tensorflow/tf-keras-datasets/t10k-images-idx3-ubyte.gz\n",
      "\u001b[1m4422102/4422102\u001b[0m \u001b[32m━━━━━━━━━━━━━━━━━━━━\u001b[0m\u001b[37m\u001b[0m \u001b[1m1s\u001b[0m 0us/step\n",
      "Epoch 1/5\n",
      "1875/1875 - 15s - 8ms/step - accuracy: 0.8358 - loss: 0.4506\n",
      "Epoch 2/5\n",
      "1875/1875 - 13s - 7ms/step - accuracy: 0.8884 - loss: 0.3039\n",
      "Epoch 3/5\n",
      "1875/1875 - 14s - 7ms/step - accuracy: 0.9047 - loss: 0.2565\n",
      "Epoch 4/5\n",
      "1875/1875 - 15s - 8ms/step - accuracy: 0.9157 - loss: 0.2248\n",
      "Epoch 5/5\n",
      "1875/1875 - 14s - 8ms/step - accuracy: 0.9270 - loss: 0.1946\n",
      "313/313 - 2s - 5ms/step - accuracy: 0.9065 - loss: 0.2554\n",
      "Test Accuracy: 0.9065\n"
     ]
    }
   ],
   "source": [
    "#Lab Experiment 4\n",
    "import tensorflow as tf\n",
    "from tensorflow.keras import layers, models, regularizers\n",
    "from tensorflow.keras.datasets import fashion_mnist\n",
    "\n",
    "(x_train, y_train), (x_test, y_test) = fashion_mnist.load_data()\n",
    "x_train, x_test = x_train / 255.0, x_test / 255.0\n",
    "x_train = x_train[..., None]  # Add channel dimension\n",
    "x_test = x_test[..., None]\n",
    "\n",
    "y_train = tf.keras.utils.to_categorical(y_train, 10)\n",
    "y_test = tf.keras.utils.to_categorical(y_test, 10)\n",
    "\n",
    "# Build the CNN model\n",
    "model = models.Sequential([\n",
    "    layers.Input(shape=(28, 28, 1)),  # Input layer with image size 28x28 and 1 channel\n",
    "    layers.Conv2D(32, (3, 3), activation='relu'),  # First Conv layer\n",
    "    layers.MaxPooling2D(),  # Max pooling layer\n",
    "    layers.Conv2D(64, (3, 3), activation='relu'),  # Second Conv layer\n",
    "    layers.MaxPooling2D(),  # Max pooling layer\n",
    "    layers.Flatten(),  # Flatten the feature map\n",
    "    layers.Dense(128, activation='relu'),  # Fully connected layer\n",
    "    # Uncomment the below lines for regularizers as per requirements\n",
    "    # layers.Dense(128, activation='relu', kernel_regularizer=regularizers.l1(1e-4)),\n",
    "    # layers.Dense(128, activation='relu', kernel_regularizer=regularizers.l2(1e-4)),\n",
    "    # layers.Dropout(0.5),\n",
    "    layers.Dense(10, activation='softmax')  # Output layer with 10 classes (Fashion MNIST)\n",
    "])\n",
    "\n",
    "model.compile(optimizer='adam',\n",
    "              loss='categorical_crossentropy',\n",
    "              metrics=['accuracy'])\n",
    "\n",
    "model.fit(x_train, y_train, epochs=5, batch_size=32, verbose=2)\n",
    "\n",
    "test_loss, test_acc = model.evaluate(x_test, y_test, verbose=2)\n",
    "print(f\"Test Accuracy: {test_acc:.4f}\")"
   ]
  },
  {
   "cell_type": "code",
   "execution_count": null,
   "id": "2a41ee5a-abc6-4b63-98e0-20a990efc8df",
   "metadata": {},
   "outputs": [],
   "source": []
  }
 ],
 "metadata": {
  "kernelspec": {
   "display_name": "Python 3 (ipykernel)",
   "language": "python",
   "name": "python3"
  },
  "language_info": {
   "codemirror_mode": {
    "name": "ipython",
    "version": 3
   },
   "file_extension": ".py",
   "mimetype": "text/x-python",
   "name": "python",
   "nbconvert_exporter": "python",
   "pygments_lexer": "ipython3",
   "version": "3.12.4"
  }
 },
 "nbformat": 4,
 "nbformat_minor": 5
}
